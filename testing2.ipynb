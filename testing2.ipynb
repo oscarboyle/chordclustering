{
 "cells": [
  {
   "cell_type": "code",
   "execution_count": 56,
   "metadata": {},
   "outputs": [
    {
     "name": "stdout",
     "output_type": "stream",
     "text": [
      "The autoreload extension is already loaded. To reload it, use:\n",
      "  %reload_ext autoreload\n"
     ]
    }
   ],
   "source": [
    "%load_ext autoreload\n",
    "%autoreload 2\n",
    "\n",
    "equivalent_aug_chords = {\n",
    "    \"E_Augmented\": \"C_Augmented\",\n",
    "    \"Ab_Augmented\": \"C_Augmented\",\n",
    "    \n",
    "    \"F_Augmented\": \"C#_Augmented\",\n",
    "    \"A_Augmented\": \"C#_Augmented\",\n",
    "    \n",
    "    \"F#_Augmented\": \"D_Augmented\",\n",
    "    \"Bb_Augmented\": \"D_Augmented\",\n",
    "    \n",
    "    \"G_Augmented\": \"Eb_Augmented\",\n",
    "    \"B_Augmented\": \"Eb_Augmented\",\n",
    "}"
   ]
  },
  {
   "cell_type": "code",
   "execution_count": 1,
   "metadata": {},
   "outputs": [
    {
     "name": "stderr",
     "output_type": "stream",
     "text": [
      "100%|██████████| 5040/5040 [00:49<00:00, 101.71it/s]\n"
     ]
    }
   ],
   "source": [
    "import json\n",
    "import os\n",
    "from madmom.audio.chroma import DeepChromaProcessor\n",
    "from featureExtraction import chromagram\n",
    "import re\n",
    "import numpy as np\n",
    "import matplotlib.pyplot as plt\n",
    "from tqdm import tqdm\n",
    "\n",
    "\n",
    "wavfolder = \"generated_chords/wav\"\n",
    "\n",
    "processor = DeepChromaProcessor()\n",
    "\n",
    "\n",
    "deepchromas = list()\n",
    "chromas = list()\n",
    "\n",
    "instruments = list()\n",
    "chords = list()\n",
    "octaves = list()\n",
    "inversions = list()\n",
    "img_paths = list()\n",
    "\n",
    "for audio in tqdm(os.listdir(wavfolder)):\n",
    "    if audio.endswith(\".wav\"):\n",
    "        \n",
    "        path = os.path.join(wavfolder, audio)\n",
    "        \n",
    "        chroma = processor(path)\n",
    "        deepchromas.append(chroma)\n",
    "\n",
    "        img_path = os.path.join(\"imgs\", audio.replace(\".wav\", \".png\"))\n",
    "        if not os.path.exists(img_path) and 0:\n",
    "            plt.imshow(chroma, origin='lower', aspect='auto', resample=True)\n",
    "            plt.savefig(img_path, bbox_inches='tight')\n",
    "        img_paths += [img_path] * chroma.shape[0]\n",
    "\n",
    "        try:\n",
    "            instrument, chord, octave, inversion = re.findall(r\"(.*)_(.*_.*)_(\\d)_(\\d).wav\", audio)[0]\n",
    "            instruments += [instrument] * chroma.shape[0]\n",
    "            chords += [chord] * chroma.shape[0]\n",
    "            octaves += [octave] * chroma.shape[0]\n",
    "            inversions += [inversion] * chroma.shape[0]\n",
    "        except:\n",
    "            pass\n",
    "\n",
    "# Account for augmented chords simmetry\n",
    "chords = [equivalent_aug_chords.get(chord, chord) for chord in chords]\n",
    "\n",
    "# Build the data matrix\n",
    "X = np.vstack(deepchromas)"
   ]
  },
  {
   "cell_type": "code",
   "execution_count": 57,
   "metadata": {},
   "outputs": [
    {
     "name": "stdout",
     "output_type": "stream",
     "text": [
      "The autoreload extension is already loaded. To reload it, use:\n",
      "  %reload_ext autoreload\n"
     ]
    },
    {
     "data": {
      "image/png": "[encoded data removed]",
      "text/plain": [
       "<Figure size 640x480 with 1 Axes>"
      ]
     },
     "metadata": {},
     "output_type": "display_data"
    }
   ],
   "source": [
    "%load_ext autoreload\n",
    "%autoreload 2\n",
    "from dataProcessing import build_chord_templates\n",
    "chord_templates = build_chord_templates()\n",
    "templates = np.array(list(chord_templates.values()))\n",
    "plt.imshow(templates.T, origin='lower', aspect='auto', cmap='gray_r')\n",
    "plt.title(\"Chord templates\")\n",
    "plt.xlabel(\"Chroma\")\n",
    "plt.ylabel(\"Template\")\n",
    "template_labels = list(chord_templates.keys())\n",
    "template_labels = [equivalent_aug_chords.get(label, label) for label in template_labels]"
   ]
  },
  {
   "cell_type": "markdown",
   "metadata": {},
   "source": [
    "### Baseline: Random Forest"
   ]
  },
  {
   "cell_type": "code",
   "execution_count": 4,
   "metadata": {},
   "outputs": [
    {
     "name": "stdout",
     "output_type": "stream",
     "text": [
      "Mean accuracy: 0.684\n"
     ]
    }
   ],
   "source": [
    "# Import random forest classifier\n",
    "from sklearn.ensemble import RandomForestClassifier\n",
    "from sklearn.neighbors import KNeighborsClassifier\n",
    "from sklearn.model_selection import cross_val_score, StratifiedKFold\n",
    "\n",
    "RF = RandomForestClassifier(n_estimators=100, random_state=123, n_jobs=-1)\n",
    "\n",
    "# Evaluate the model\n",
    "cv = StratifiedKFold(n_splits=5, shuffle=True, random_state=123)\n",
    "scores = cross_val_score(RF, X, chords, cv=cv, scoring='accuracy')\n",
    "print(f\"Mean accuracy: {np.mean(scores):.3f}\")"
   ]
  },
  {
   "cell_type": "markdown",
   "metadata": {},
   "source": [
    "### Assess the optimal number of clusters based on coherence"
   ]
  },
  {
   "cell_type": "code",
   "execution_count": 29,
   "metadata": {},
   "outputs": [],
   "source": [
    "from sklearn.metrics import adjusted_rand_score, normalized_mutual_info_score, fowlkes_mallows_score, silhouette_score\n",
    "from sklearn.mixture import GaussianMixture\n",
    "\n",
    "from tqdm import trange\n",
    "rands = list()\n",
    "mis = list()\n",
    "fmis = list()\n",
    "sil = list()\n",
    "bics = list()\n",
    "aics = list()\n",
    "\n"
   ]
  },
  {
   "cell_type": "code",
   "execution_count": 30,
   "metadata": {},
   "outputs": [
    {
     "name": "stderr",
     "output_type": "stream",
     "text": [
      "  0%|          | 0/36 [00:00<?, ?it/s]"
     ]
    },
    {
     "name": "stderr",
     "output_type": "stream",
     "text": [
      "100%|██████████| 36/36 [28:04<00:00, 46.78s/it]\n"
     ]
    }
   ],
   "source": [
    "\n",
    "for n in trange(24, 60):\n",
    "    #kmeans = KMeans(n_clusters=n, random_state=123)\n",
    "    gmm = GaussianMixture(n_components=n, covariance_type='full', init_params='kmeans', max_iter=1000, random_state=42)\n",
    "    clusters = gmm.fit_predict(X)\n",
    "\n",
    "    # Compute AIC and BIC\n",
    "    bic = gmm.bic(X)\n",
    "    aic = gmm.aic(X)\n",
    "    bics.append(bic)\n",
    "    aics.append(aic)\n",
    "    rands.append(adjusted_rand_score(chords, clusters))\n",
    "    mis.append(normalized_mutual_info_score(chords, clusters))\n",
    "    fmis.append(fowlkes_mallows_score(chords, clusters))\n",
    "    #sil.append(silhouette_score(X, clusters))"
   ]
  },
  {
   "cell_type": "code",
   "execution_count": 43,
   "metadata": {},
   "outputs": [
    {
     "data": {
      "image/png": "[encoded data removed]",
      "text/plain": [
       "<Figure size 1500x1000 with 2 Axes>"
      ]
     },
     "metadata": {},
     "output_type": "display_data"
    }
   ],
   "source": [
    "\n",
    "fig, axs = plt.subplots(1, 2, figsize=(15, 10))\n",
    "axs[0].plot(rands, label=\"Adjusted Rand Index\")\n",
    "axs[0].plot(mis, label=\"Mutual Information Score\")\n",
    "axs[0].plot(fmis, label=\"Fowlkes-Mallows Index\")\n",
    "\n",
    "# Mean of all metrics\n",
    "axs[0].plot(np.mean([rands, mis, fmis], axis=0), label=\"Mean\")\n",
    "\n",
    "# Add vline for optimal number of clusters\n",
    "optim_n_rand = np.argmax(np.mean([rands, mis, fmis], axis=0))\n",
    "axs[0].axvline(optim_n_rand, color='black', linestyle='--', label=\"Optimal number of clusters\")\n",
    "\n",
    "axs[1].plot(bics, label=\"BIC\")\n",
    "axs[1].plot(aics, label=\"AIC\")\n",
    "axs[1].plot(np.mean([bics, aics], axis=0), label=\"Mean\")\n",
    "\n",
    "# Add vline for optimal number of clusters\n",
    "optim_n_bic = np.argmin(np.mean([aics, bics], axis=0))\n",
    "axs[1].axvline(optim_n_bic, color='black', linestyle='--', label=\"Optimal number of clusters\")\n",
    "\n",
    "#plt.plot(sil, label=\"Silhouette Score\")\n",
    "axs[0].legend(bbox_to_anchor=(1.05, 1), loc=2, borderaxespad=0.)\n",
    "axs[1].legend(bbox_to_anchor=(1.05, 1), loc=2, borderaxespad=0.)\n",
    "\n",
    "plt.show()"
   ]
  },
  {
   "cell_type": "code",
   "execution_count": 42,
   "metadata": {},
   "outputs": [
    {
     "name": "stdout",
     "output_type": "stream",
     "text": [
      "30\n",
      "29\n"
     ]
    }
   ],
   "source": [
    "print(optim_n_bic)\n",
    "print(optim_n_rand)"
   ]
  },
  {
   "cell_type": "markdown",
   "metadata": {},
   "source": [
    "### Fit the GMM with the optimal number of classes"
   ]
  },
  {
   "cell_type": "code",
   "execution_count": 44,
   "metadata": {},
   "outputs": [],
   "source": [
    "gmm = GaussianMixture(n_components=optim_n_bic, covariance_type='full', init_params=\"kmeans\", max_iter=1000, random_state=42)\n",
    "clusters = gmm.fit_predict(X)"
   ]
  },
  {
   "cell_type": "markdown",
   "metadata": {},
   "source": [
    "### Plot the clustering"
   ]
  },
  {
   "cell_type": "code",
   "execution_count": 45,
   "metadata": {},
   "outputs": [
    {
     "ename": "KeyboardInterrupt",
     "evalue": "",
     "output_type": "error",
     "traceback": [
      "\u001b[0;31m---------------------------------------------------------------------------\u001b[0m",
      "\u001b[0;31mKeyboardInterrupt\u001b[0m                         Traceback (most recent call last)",
      "Cell \u001b[0;32mIn[45], line 15\u001b[0m\n\u001b[1;32m     13\u001b[0m \u001b[38;5;66;03m# Plot the cluster assignments\u001b[39;00m\n\u001b[1;32m     14\u001b[0m tsne \u001b[38;5;241m=\u001b[39m TSNE(n_jobs\u001b[38;5;241m=\u001b[39m\u001b[38;5;241m-\u001b[39m\u001b[38;5;241m1\u001b[39m)\n\u001b[0;32m---> 15\u001b[0m coords \u001b[38;5;241m=\u001b[39m \u001b[43mtsne\u001b[49m\u001b[38;5;241;43m.\u001b[39;49m\u001b[43mfit_transform\u001b[49m\u001b[43m(\u001b[49m\u001b[43mnp\u001b[49m\u001b[38;5;241;43m.\u001b[39;49m\u001b[43mvstack\u001b[49m\u001b[43m(\u001b[49m\u001b[43m[\u001b[49m\u001b[43mX\u001b[49m\u001b[43m,\u001b[49m\u001b[43m \u001b[49m\u001b[43mtemplates\u001b[49m\u001b[43m]\u001b[49m\u001b[43m)\u001b[49m\u001b[43m)\u001b[49m\n\u001b[1;32m     16\u001b[0m sample_coords \u001b[38;5;241m=\u001b[39m coords[:\u001b[38;5;241m-\u001b[39m\u001b[38;5;28mlen\u001b[39m(templates)]\n\u001b[1;32m     17\u001b[0m template_coords \u001b[38;5;241m=\u001b[39m coords[\u001b[38;5;241m-\u001b[39m\u001b[38;5;28mlen\u001b[39m(templates):]\n",
      "File \u001b[0;32m~/anaconda3/envs/valerio/lib/python3.10/site-packages/MulticoreTSNE/__init__.py:139\u001b[0m, in \u001b[0;36mMulticoreTSNE.fit_transform\u001b[0;34m(self, X, _y)\u001b[0m\n\u001b[1;32m    136\u001b[0m t\u001b[38;5;241m.\u001b[39mstart()\n\u001b[1;32m    138\u001b[0m \u001b[38;5;28;01mwhile\u001b[39;00m t\u001b[38;5;241m.\u001b[39mis_alive():\n\u001b[0;32m--> 139\u001b[0m     \u001b[43mt\u001b[49m\u001b[38;5;241;43m.\u001b[39;49m\u001b[43mjoin\u001b[49m\u001b[43m(\u001b[49m\u001b[43mtimeout\u001b[49m\u001b[38;5;241;43m=\u001b[39;49m\u001b[38;5;241;43m1.0\u001b[39;49m\u001b[43m)\u001b[49m\n\u001b[1;32m    140\u001b[0m     sys\u001b[38;5;241m.\u001b[39mstdout\u001b[38;5;241m.\u001b[39mflush()\n\u001b[1;32m    142\u001b[0m \u001b[38;5;28mself\u001b[39m\u001b[38;5;241m.\u001b[39membedding_ \u001b[38;5;241m=\u001b[39m Y\n",
      "File \u001b[0;32m~/anaconda3/envs/valerio/lib/python3.10/threading.py:1100\u001b[0m, in \u001b[0;36mThread.join\u001b[0;34m(self, timeout)\u001b[0m\n\u001b[1;32m   1096\u001b[0m     \u001b[38;5;28mself\u001b[39m\u001b[38;5;241m.\u001b[39m_wait_for_tstate_lock()\n\u001b[1;32m   1097\u001b[0m \u001b[38;5;28;01melse\u001b[39;00m:\n\u001b[1;32m   1098\u001b[0m     \u001b[38;5;66;03m# the behavior of a negative timeout isn't documented, but\u001b[39;00m\n\u001b[1;32m   1099\u001b[0m     \u001b[38;5;66;03m# historically .join(timeout=x) for x<0 has acted as if timeout=0\u001b[39;00m\n\u001b[0;32m-> 1100\u001b[0m     \u001b[38;5;28;43mself\u001b[39;49m\u001b[38;5;241;43m.\u001b[39;49m\u001b[43m_wait_for_tstate_lock\u001b[49m\u001b[43m(\u001b[49m\u001b[43mtimeout\u001b[49m\u001b[38;5;241;43m=\u001b[39;49m\u001b[38;5;28;43mmax\u001b[39;49m\u001b[43m(\u001b[49m\u001b[43mtimeout\u001b[49m\u001b[43m,\u001b[49m\u001b[43m \u001b[49m\u001b[38;5;241;43m0\u001b[39;49m\u001b[43m)\u001b[49m\u001b[43m)\u001b[49m\n",
      "File \u001b[0;32m~/anaconda3/envs/valerio/lib/python3.10/threading.py:1116\u001b[0m, in \u001b[0;36mThread._wait_for_tstate_lock\u001b[0;34m(self, block, timeout)\u001b[0m\n\u001b[1;32m   1113\u001b[0m     \u001b[38;5;28;01mreturn\u001b[39;00m\n\u001b[1;32m   1115\u001b[0m \u001b[38;5;28;01mtry\u001b[39;00m:\n\u001b[0;32m-> 1116\u001b[0m     \u001b[38;5;28;01mif\u001b[39;00m \u001b[43mlock\u001b[49m\u001b[38;5;241;43m.\u001b[39;49m\u001b[43macquire\u001b[49m\u001b[43m(\u001b[49m\u001b[43mblock\u001b[49m\u001b[43m,\u001b[49m\u001b[43m \u001b[49m\u001b[43mtimeout\u001b[49m\u001b[43m)\u001b[49m:\n\u001b[1;32m   1117\u001b[0m         lock\u001b[38;5;241m.\u001b[39mrelease()\n\u001b[1;32m   1118\u001b[0m         \u001b[38;5;28mself\u001b[39m\u001b[38;5;241m.\u001b[39m_stop()\n",
      "\u001b[0;31mKeyboardInterrupt\u001b[0m: "
     ]
    }
   ],
   "source": [
    "from MulticoreTSNE import MulticoreTSNE as TSNE\n",
    "import seaborn as sns\n",
    "\n",
    "def plot_clusters(coords, template_coords, clusters):\n",
    "    plt.figure(figsize=(8, 8))\n",
    "    sns.scatterplot(x=coords[:, 0], y=coords[:, 1], hue=clusters, palette='tab20')\n",
    "    #sns.scatterplot(x=coords[:, 0], y=coords[:, 1], hue=clusters, palette='tab20')\n",
    "\n",
    "    plt.legend(bbox_to_anchor=(1.05, 1), loc=2, borderaxespad=0.)\n",
    "    sns.scatterplot(x=template_coords[:, 0], y=template_coords[:, 1], color='black', s=100, marker='x')\n",
    "    plt.show()\n",
    "\n",
    "# Plot the cluster assignments\n",
    "tsne = TSNE(n_jobs=-1)\n",
    "coords = tsne.fit_transform(np.vstack([X, templates]))\n",
    "sample_coords = coords[:-len(templates)]\n",
    "template_coords = coords[-len(templates):]\n",
    "\n",
    "plot_clusters(sample_coords, template_coords, clusters)"
   ]
  },
  {
   "cell_type": "markdown",
   "metadata": {},
   "source": [
    "### Assess the content of each cluster"
   ]
  },
  {
   "cell_type": "code",
   "execution_count": 46,
   "metadata": {},
   "outputs": [
    {
     "name": "stdout",
     "output_type": "stream",
     "text": [
      "     cluster          chord  count\n",
      "0          0    D_Augmented   1367\n",
      "1          0   F#_Augmented   1292\n",
      "2          0   Bb_Augmented   1128\n",
      "3          0       Bb_Major     69\n",
      "4          0        D_Major     11\n",
      "5          0       F#_Major     11\n",
      "6          0        B_Minor      8\n",
      "7          0   D_Diminished      8\n",
      "8          0        G_Minor      8\n",
      "9          0       Eb_Minor      6\n",
      "10         0   B_Diminished      5\n",
      "11         0    B_Augmented      4\n",
      "12         0    G_Augmented      4\n",
      "13         0  Ab_Diminished      3\n",
      "14         0  Eb_Diminished      2\n",
      "15         0  Bb_Diminished      1\n",
      "16         0   C_Diminished      1\n",
      "17         0   E_Diminished      1\n",
      "18         0       Eb_Major      1\n",
      "19         1    B_Augmented    312\n",
      "20         1        B_Major    282\n",
      "21         1        B_Minor    278\n",
      "22         1   B_Diminished    273\n",
      "23         1  Bb_Diminished    273\n",
      "24         1   Bb_Augmented    272\n",
      "25         1       Bb_Major    268\n",
      "26         1       Bb_Minor    255\n",
      "27         1   Ab_Augmented    242\n",
      "28         1        A_Major    237\n",
      "29         1    A_Augmented    235\n",
      "30         1        A_Minor    232\n",
      "31         1   A_Diminished    220\n",
      "32         1       Ab_Major    213\n",
      "33         1    G_Augmented    204\n",
      "34         1  Ab_Diminished    199\n",
      "35         1        G_Minor    198\n",
      "36         1   G_Diminished    187\n",
      "37         1       Ab_Minor    186\n",
      "38         1        G_Major    184\n",
      "39         1   F#_Augmented    172\n",
      "40         1       F#_Major    161\n",
      "41         1  F#_Diminished    149\n",
      "42         1       F#_Minor    147\n",
      "43         1    E_Augmented    142\n",
      "44         1        F_Minor    141\n",
      "45         1    F_Augmented    138\n",
      "46         1        F_Major    125\n",
      "47         1   F_Diminished    121\n",
      "48         1   Eb_Augmented    119\n",
      "49         1        E_Minor    118\n",
      "50         1   E_Diminished    116\n",
      "51         1        E_Major    115\n",
      "52         1       Eb_Major    107\n",
      "53         1       Eb_Minor     92\n",
      "54         1    D_Augmented     90\n",
      "55         1  Eb_Diminished     90\n",
      "56         1   D_Diminished     81\n",
      "57         1  C#_Diminished     80\n",
      "58         1        D_Major     74\n",
      "59         1    C_Augmented     70\n",
      "60         1       C#_Minor     68\n",
      "61         1        D_Minor     68\n",
      "62         1       C#_Major     66\n",
      "63         1   C#_Augmented     65\n",
      "64         1        C_Minor     65\n",
      "65         1   C_Diminished     62\n",
      "66         1        C_Major     62\n",
      "67         2       Eb_Major   1194\n",
      "68         2        C_Minor   1110\n",
      "69         2   G_Diminished     82\n",
      "70         2   E_Diminished     62\n",
      "71         2        G_Minor     59\n",
      "72         2        C_Major      9\n",
      "73         2   A_Diminished      5\n",
      "74         2       Bb_Major      2\n",
      "75         2   C_Diminished      2\n",
      "76         2  F#_Diminished      2\n",
      "77         2       Eb_Minor      1\n",
      "78         2        F_Minor      1\n",
      "79         3        F_Minor   1248\n",
      "80         3       Ab_Major    777\n",
      "81         3   A_Diminished    292\n",
      "82         3   C_Diminished     81\n",
      "83         3        C_Minor     81\n",
      "84         3        F_Major     48\n",
      "85         3  F#_Diminished     36\n",
      "86         3   Ab_Augmented     32\n",
      "87         3    E_Augmented     32\n",
      "88         3   D_Diminished     22\n",
      "89         3       Ab_Minor     21\n",
      "90         3        A_Minor     18\n",
      "91         3    B_Augmented     17\n",
      "92         3    G_Augmented     17\n",
      "93         3        B_Major     16\n",
      "94         3    C_Augmented     16\n",
      "95         3   E_Diminished     11\n",
      "96         3       Eb_Major     11\n",
      "97         3       C#_Major      5\n",
      "98         3  Bb_Diminished      3\n",
      "99         3       Eb_Minor      3\n",
      "100        3   F_Diminished      3\n",
      "101        3        C_Major      2\n",
      "102        3   G_Diminished      2\n",
      "103        3       Bb_Minor      1\n",
      "104        3        G_Minor      1\n",
      "105        4   C#_Augmented   1394\n",
      "106        4    F_Augmented   1340\n",
      "107        4    A_Augmented   1227\n",
      "108        4        F_Major     47\n",
      "109        4       C#_Major     46\n",
      "110        4        D_Minor     46\n",
      "111        4   D_Diminished     35\n",
      "112        4  Bb_Diminished     29\n",
      "113        4        A_Major     15\n",
      "114        4   G_Diminished     15\n",
      "115        4       Bb_Major     14\n",
      "116        4  C#_Diminished     10\n",
      "117        4   F_Diminished     10\n",
      "118        4       Bb_Minor      8\n",
      "119        4   A_Diminished      7\n",
      "120        4   B_Diminished      6\n",
      "121        4       C#_Minor      3\n",
      "122        4  Eb_Diminished      3\n",
      "123        4        G_Minor      3\n",
      "124        4   Bb_Augmented      2\n",
      "125        4    D_Augmented      2\n",
      "126        4   F#_Augmented      2\n",
      "127        4  F#_Diminished      2\n",
      "128        4       F#_Minor      1\n",
      "129        5    C_Augmented   1460\n",
      "130        5    E_Augmented   1393\n",
      "131        5   Ab_Augmented   1288\n",
      "132        5        C_Major     59\n",
      "133        5       C#_Minor     29\n",
      "134        5        C_Minor     29\n",
      "135        5        A_Minor     18\n",
      "136        5  C#_Diminished     18\n",
      "137        5   E_Diminished     18\n",
      "138        5       Ab_Minor     15\n",
      "139        5  F#_Diminished      8\n",
      "140        5       Ab_Major      6\n",
      "141        5  Eb_Diminished      6\n",
      "142        5        E_Major      4\n",
      "143        5   A_Diminished      3\n",
      "144        5  Bb_Diminished      3\n",
      "145        5    A_Augmented      2\n",
      "146        5   C#_Augmented      2\n",
      "147        5    F_Augmented      2\n",
      "148        5   B_Diminished      1\n",
      "149        6        D_Minor   1512\n",
      "150        6        F_Major    331\n",
      "151        6       Bb_Major    146\n",
      "152        6   B_Diminished     93\n",
      "153        6  F#_Diminished     83\n",
      "154        6        A_Minor     78\n",
      "155        6        D_Major     75\n",
      "156        6    A_Augmented     59\n",
      "157        6        A_Major     46\n",
      "158        6        G_Minor     39\n",
      "159        6   C#_Augmented     36\n",
      "160        6  Eb_Diminished     36\n",
      "161        6    F_Augmented     36\n",
      "162        6   A_Diminished     34\n",
      "163        6       F#_Minor     33\n",
      "164        6        G_Major     25\n",
      "165        6   Bb_Augmented     15\n",
      "166        6   F#_Augmented     15\n",
      "167        6  Ab_Diminished     13\n",
      "168        6        B_Minor     13\n",
      "169        6   D_Diminished     12\n",
      "170        6    B_Augmented     11\n",
      "171        6   E_Diminished      6\n",
      "172        6    D_Augmented      2\n",
      "173        6        C_Major      1\n",
      "174        7   Eb_Augmented   1320\n",
      "175        7    G_Augmented   1281\n",
      "176        7    B_Augmented   1160\n",
      "177        7        B_Major    168\n",
      "178        7        B_Minor     79\n",
      "179        7       Eb_Major     76\n",
      "180        7        G_Minor     73\n",
      "181        7        G_Major     65\n",
      "182        7   E_Diminished     51\n",
      "183        7   C_Diminished     43\n",
      "184        7        C_Minor     41\n",
      "185        7  Eb_Diminished     40\n",
      "186        7  Bb_Diminished     31\n",
      "187        7        E_Minor     26\n",
      "188        7  Ab_Diminished     22\n",
      "189        7   G_Diminished     19\n",
      "190        7   B_Diminished     18\n",
      "191        7       Eb_Minor     18\n",
      "192        7   Bb_Augmented     15\n",
      "193        7  C#_Diminished     15\n",
      "194        7   Ab_Augmented     14\n",
      "195        7       Ab_Minor     14\n",
      "196        7    E_Augmented     14\n",
      "197        7   F#_Augmented     14\n",
      "198        7   D_Diminished     11\n",
      "199        7        C_Major     10\n",
      "200        7   F_Diminished     10\n",
      "201        7    D_Augmented      6\n",
      "202        7    C_Augmented      5\n",
      "203        7   A_Diminished      4\n",
      "204        7  F#_Diminished      3\n",
      "205        7       Bb_Major      2\n",
      "206        7        D_Major      2\n",
      "207        7        A_Minor      1\n",
      "208        8       F#_Major    987\n",
      "209        8  Bb_Diminished    847\n",
      "210        8   G_Diminished     46\n",
      "211        8       Bb_Minor      9\n",
      "212        8  C#_Diminished      9\n",
      "213        8  Eb_Diminished      8\n",
      "214        8       F#_Minor      5\n",
      "215        8       C#_Minor      4\n",
      "216        8       Eb_Minor      2\n",
      "217        9        E_Minor   1458\n",
      "218        9        G_Major    441\n",
      "219        9  Ab_Diminished    233\n",
      "220        9        B_Minor    204\n",
      "221        9        C_Major    172\n",
      "222        9   B_Diminished    112\n",
      "223        9  C#_Diminished     95\n",
      "224        9        E_Major     50\n",
      "225        9    B_Augmented     47\n",
      "226        9   F_Diminished     46\n",
      "227        9        B_Major     33\n",
      "228        9        A_Minor     31\n",
      "229        9        A_Major     27\n",
      "230        9   Eb_Augmented     27\n",
      "231        9    G_Augmented     27\n",
      "232        9       Ab_Minor     24\n",
      "233        9  Bb_Diminished     16\n",
      "234        9   E_Diminished     11\n",
      "235        9   Ab_Augmented      5\n",
      "236        9   Bb_Augmented      3\n",
      "237        9       Bb_Major      3\n",
      "238        9    C_Augmented      3\n",
      "239        9    E_Augmented      3\n",
      "240        9   F#_Augmented      3\n",
      "241        9        G_Minor      3\n",
      "242        9       C#_Minor      2\n",
      "243        9  F#_Diminished      2\n",
      "244        9       F#_Minor      2\n",
      "245       10  F#_Diminished   1104\n",
      "246       10        D_Major    222\n",
      "247       10        A_Minor    216\n",
      "248       10        A_Major     70\n",
      "249       10  Eb_Diminished     70\n",
      "250       10   A_Diminished     28\n",
      "251       10        C_Major     13\n",
      "252       10   E_Diminished      8\n",
      "253       10   B_Diminished      5\n",
      "254       10        D_Minor      5\n",
      "255       10        B_Minor      3\n",
      "256       10  C#_Diminished      2\n",
      "257       10        C_Minor      1\n",
      "258       10        F_Major      1\n",
      "259       11       C#_Major   1229\n",
      "260       11   F_Diminished    976\n",
      "261       11   D_Diminished     44\n",
      "262       11       C#_Minor     13\n",
      "263       11       Bb_Minor      7\n",
      "264       11  Bb_Diminished      1\n",
      "265       11        F_Minor      1\n",
      "266       12  C#_Diminished   1169\n",
      "267       12        A_Major    830\n",
      "268       12  Bb_Diminished     44\n",
      "269       12        A_Minor      2\n",
      "270       12  F#_Diminished      2\n",
      "271       12        E_Minor      1\n",
      "272       13        C_Major   1280\n",
      "273       13        A_Minor    889\n",
      "274       13  C#_Diminished     18\n",
      "275       13        A_Major     12\n",
      "276       13        E_Minor      1\n",
      "277       14  C#_Diminished    200\n",
      "278       14   Eb_Augmented    198\n",
      "279       14  Bb_Diminished    193\n",
      "280       14   B_Diminished    162\n",
      "281       14   E_Diminished    158\n",
      "282       14  Eb_Diminished    153\n",
      "283       14   F_Diminished    150\n",
      "284       14   C#_Augmented    146\n",
      "285       14  F#_Diminished    140\n",
      "286       14  Ab_Diminished    130\n",
      "287       14    G_Augmented    129\n",
      "288       14   G_Diminished    121\n",
      "289       14   A_Diminished    110\n",
      "290       14   C_Diminished    105\n",
      "291       14    B_Augmented    103\n",
      "292       14    F_Augmented    101\n",
      "293       14    D_Augmented     97\n",
      "294       14        F_Major     97\n",
      "295       14    C_Augmented     88\n",
      "296       14    A_Augmented     82\n",
      "297       14        A_Major     79\n",
      "298       14        A_Minor     79\n",
      "299       14        E_Minor     73\n",
      "300       14   D_Diminished     72\n",
      "301       14   F#_Augmented     67\n",
      "302       14   Bb_Augmented     63\n",
      "303       14    E_Augmented     58\n",
      "304       14   Ab_Augmented     55\n",
      "305       14        C_Major     53\n",
      "306       14       F#_Major     48\n",
      "307       14       C#_Minor     40\n",
      "308       14       Eb_Minor     38\n",
      "309       14        B_Major     36\n",
      "310       14        D_Minor     35\n",
      "311       14        B_Minor     34\n",
      "312       14        G_Minor     34\n",
      "313       14       F#_Minor     27\n",
      "314       14        F_Minor     27\n",
      "315       14       Ab_Minor     17\n",
      "316       14        D_Major     17\n",
      "317       14        G_Major     17\n",
      "318       14        E_Major     13\n",
      "319       14       Eb_Major     12\n",
      "320       14       Bb_Minor     11\n",
      "321       14        C_Minor     11\n",
      "322       14       C#_Major     10\n",
      "323       14       Ab_Major      3\n",
      "324       15  Eb_Diminished   1113\n",
      "325       15        B_Major    378\n",
      "326       15  Bb_Diminished      2\n",
      "327       15   C_Diminished      2\n",
      "328       15        B_Minor      1\n",
      "329       15       Eb_Minor      1\n",
      "330       16       C#_Minor   1501\n",
      "331       16        E_Major    682\n",
      "332       16   F_Diminished    168\n",
      "333       16       Ab_Minor    116\n",
      "334       16  Ab_Diminished     94\n",
      "335       16  Bb_Diminished     72\n",
      "336       16       C#_Major     53\n",
      "337       16   Ab_Augmented     44\n",
      "338       16   D_Diminished     41\n",
      "339       16    C_Augmented     38\n",
      "340       16    E_Augmented     38\n",
      "341       16        A_Major     37\n",
      "342       16       F#_Minor     33\n",
      "343       16       Ab_Major     32\n",
      "344       16  C#_Diminished     31\n",
      "345       16        F_Minor     29\n",
      "346       16    A_Augmented     28\n",
      "347       16    F_Augmented     28\n",
      "348       16       F#_Major     23\n",
      "349       16   G_Diminished     23\n",
      "350       16       Bb_Minor     16\n",
      "351       16   C#_Augmented      9\n",
      "352       16        B_Major      6\n",
      "353       16  Eb_Diminished      4\n",
      "354       16    B_Augmented      2\n",
      "355       16   Eb_Augmented      2\n",
      "356       16    G_Augmented      2\n",
      "357       17       Ab_Minor   1285\n",
      "358       17        B_Major    723\n",
      "359       17        E_Major     94\n",
      "360       17   C_Diminished     64\n",
      "361       17  Eb_Diminished     52\n",
      "362       17       Ab_Major     26\n",
      "363       17        B_Minor     17\n",
      "364       17   D_Diminished     17\n",
      "365       17    B_Augmented     14\n",
      "366       17   Eb_Augmented     14\n",
      "367       17       Eb_Minor     14\n",
      "368       17    G_Augmented     14\n",
      "369       17   F_Diminished     12\n",
      "370       17       C#_Minor     11\n",
      "371       17  Bb_Diminished      4\n",
      "372       17       C#_Major      4\n",
      "373       17  Ab_Diminished      3\n",
      "374       17        F_Minor      1\n",
      "375       18        G_Minor    981\n",
      "376       18       Bb_Major    878\n",
      "377       18       Eb_Major    121\n",
      "378       18   D_Diminished     10\n",
      "379       18   B_Diminished      3\n",
      "380       18        D_Minor      3\n",
      "381       18   Bb_Augmented      2\n",
      "382       18    D_Augmented      2\n",
      "383       18   F#_Augmented      2\n",
      "384       18       Bb_Minor      1\n",
      "385       19       F#_Minor   1420\n",
      "386       19        A_Major    327\n",
      "387       19        D_Major    213\n",
      "388       19  Eb_Diminished     84\n",
      "389       19  F#_Diminished     43\n",
      "390       19   C_Diminished     31\n",
      "391       19  Bb_Diminished     23\n",
      "392       19        B_Minor     18\n",
      "393       19    A_Augmented     17\n",
      "394       19   C#_Augmented     17\n",
      "395       19    F_Augmented     17\n",
      "396       19        B_Major      7\n",
      "397       19   Bb_Augmented      7\n",
      "398       19    D_Augmented      7\n",
      "399       19   F#_Augmented      7\n",
      "400       19       Eb_Minor      6\n",
      "401       19       F#_Major      6\n",
      "402       19  C#_Diminished      5\n",
      "403       19   B_Diminished      1\n",
      "404       20        D_Major   1002\n",
      "405       20        B_Minor    392\n",
      "406       21        F_Major   1015\n",
      "407       21   A_Diminished    971\n",
      "408       21        A_Minor    116\n",
      "409       21        C_Minor    112\n",
      "410       21  F#_Diminished     96\n",
      "411       21        F_Minor     36\n",
      "412       21   C_Diminished     11\n",
      "413       21   D_Diminished     11\n",
      "414       21       Eb_Major      6\n",
      "415       21  Eb_Diminished      4\n",
      "416       21   E_Diminished      2\n",
      "417       22   C_Diminished   1007\n",
      "418       22       Ab_Major    623\n",
      "419       22        C_Minor    215\n",
      "420       23  Ab_Diminished    968\n",
      "421       23        E_Major    722\n",
      "422       23   F_Diminished    147\n",
      "423       23   B_Diminished     71\n",
      "424       23        B_Minor     25\n",
      "425       23   D_Diminished     19\n",
      "426       23  C#_Diminished     14\n",
      "427       23        B_Major     13\n",
      "428       23       C#_Minor      9\n",
      "429       23        E_Minor      3\n",
      "430       23  Bb_Diminished      1\n",
      "431       23        D_Major      1\n",
      "432       23        G_Major      1\n",
      "433       24   E_Diminished   1177\n",
      "434       24        G_Minor    244\n",
      "435       24       Bb_Major     34\n",
      "436       24  Bb_Diminished     30\n",
      "437       24   G_Diminished     20\n",
      "438       24        C_Major     19\n",
      "439       24        C_Minor     15\n",
      "440       24  C#_Diminished     14\n",
      "441       24   Bb_Augmented     10\n",
      "442       24    D_Augmented     10\n",
      "443       24   F#_Augmented     10\n",
      "444       24   D_Diminished      7\n",
      "445       24   A_Diminished      1\n",
      "446       24   C_Diminished      1\n",
      "447       24  Eb_Diminished      1\n",
      "448       24       Eb_Major      1\n",
      "449       24        G_Major      1\n",
      "450       25   G_Diminished    923\n",
      "451       25       Bb_Minor     35\n",
      "452       25  Bb_Diminished     29\n",
      "453       25       Eb_Major     11\n",
      "454       25       Bb_Major      3\n",
      "455       25   C_Diminished      1\n",
      "456       25       Eb_Minor      1\n",
      "457       26        G_Major    946\n",
      "458       26   B_Diminished    892\n",
      "459       26        B_Minor    608\n",
      "460       26        D_Major     54\n",
      "461       26        B_Major     18\n",
      "462       26  Ab_Diminished     15\n",
      "463       26    B_Augmented      8\n",
      "464       26   D_Diminished      7\n",
      "465       26    A_Augmented      4\n",
      "466       26   E_Diminished      4\n",
      "467       26        G_Minor      4\n",
      "468       26   A_Diminished      1\n",
      "469       26    D_Augmented      1\n",
      "470       26        D_Minor      1\n",
      "471       27       Bb_Minor   1259\n",
      "472       27       F#_Major    295\n",
      "473       27   G_Diminished    188\n",
      "474       27       Bb_Major    168\n",
      "475       27       Eb_Minor    158\n",
      "476       27       C#_Major    154\n",
      "477       27   Bb_Augmented    149\n",
      "478       27   D_Diminished    118\n",
      "479       27    D_Augmented     96\n",
      "480       27   F#_Augmented     96\n",
      "481       27  Bb_Diminished     78\n",
      "482       27        F_Minor     63\n",
      "483       27       Eb_Major     43\n",
      "484       27   B_Diminished     38\n",
      "485       27   E_Diminished     37\n",
      "486       27   F_Diminished     36\n",
      "487       27        G_Minor     33\n",
      "488       27    A_Augmented     20\n",
      "489       27    F_Augmented     17\n",
      "490       27  Eb_Diminished     14\n",
      "491       27       F#_Minor     12\n",
      "492       27   C#_Augmented     10\n",
      "493       27  F#_Diminished     10\n",
      "494       27        D_Major      9\n",
      "495       27        D_Minor      9\n",
      "496       27        F_Major      9\n",
      "497       27   A_Diminished      4\n",
      "498       27   C_Diminished      4\n",
      "499       27    B_Augmented      2\n",
      "500       27    G_Augmented      2\n",
      "501       28   D_Diminished   1165\n",
      "502       28        F_Minor    133\n",
      "503       28       C#_Major    113\n",
      "504       28       Bb_Major     93\n",
      "505       28       Bb_Minor     78\n",
      "506       28        F_Major      7\n",
      "507       28    A_Augmented      6\n",
      "508       28   C#_Augmented      1\n",
      "509       28        D_Minor      1\n",
      "510       28    F_Augmented      1\n",
      "511       29       Eb_Minor   1340\n",
      "512       29   C_Diminished    265\n",
      "513       29       F#_Major    149\n",
      "514       29       Eb_Major     97\n",
      "515       29   G_Diminished     54\n",
      "516       29   E_Diminished     18\n",
      "517       29   Bb_Augmented     14\n",
      "518       29       Ab_Minor      2\n",
      "519       29   F_Diminished      1\n"
     ]
    }
   ],
   "source": [
    "import pandas as pd\n",
    "# Count the proportion of each chord in each cluster\n",
    "cluster_df = pd.DataFrame({'cluster': clusters, 'chord': chords})\n",
    "cluster_df = cluster_df.groupby(['cluster'])[\"chord\"].value_counts().reset_index()\n",
    "\n",
    "with pd.option_context('display.max_rows', None, 'display.max_columns', None):  # more options can be specified also\n",
    "    print(cluster_df)"
   ]
  },
  {
   "cell_type": "markdown",
   "metadata": {},
   "source": [
    "### Create cluster labels"
   ]
  },
  {
   "cell_type": "code",
   "execution_count": 58,
   "metadata": {},
   "outputs": [],
   "source": [
    "from sklearn.cluster import KMeans\n",
    "\n",
    "template_clusters = gmm.predict(templates)\n",
    "\n",
    "cluster_mapping = dict()\n",
    "for cluster, label in zip(template_clusters, template_labels):\n",
    "    cluster_mapping[cluster] = label"
   ]
  },
  {
   "cell_type": "code",
   "execution_count": 59,
   "metadata": {},
   "outputs": [
    {
     "data": {
      "text/plain": [
       "[2, 14]"
      ]
     },
     "execution_count": 59,
     "metadata": {},
     "output_type": "execute_result"
    }
   ],
   "source": [
    "len(np.unique(template_clusters))\n",
    "\n",
    "# Find repeated template_clusters\n",
    "from collections import Counter\n",
    "c = Counter(template_clusters)\n",
    "repeated_clusters = [cluster for cluster, count in c.items() if count > 1]\n",
    "repeated_clusters"
   ]
  },
  {
   "cell_type": "code",
   "execution_count": 60,
   "metadata": {},
   "outputs": [
    {
     "name": "stdout",
     "output_type": "stream",
     "text": [
      "13 C_Major\n",
      "2 C_Minor\n",
      "14 C_Diminished\n",
      "14 C_Augmented\n",
      "11 C#_Major\n",
      "16 C#_Minor\n",
      "14 C#_Diminished\n",
      "14 C#_Augmented\n",
      "20 D_Major\n",
      "6 D_Minor\n",
      "28 D_Diminished\n",
      "14 D_Augmented\n",
      "2 Eb_Major\n",
      "14 Eb_Minor\n",
      "14 Eb_Diminished\n",
      "14 Eb_Augmented\n",
      "23 E_Major\n",
      "14 E_Minor\n",
      "14 E_Diminished\n",
      "14 C_Augmented\n",
      "21 F_Major\n",
      "14 F_Minor\n",
      "14 F_Diminished\n",
      "14 C#_Augmented\n",
      "8 F#_Major\n",
      "14 F#_Minor\n",
      "14 F#_Diminished\n",
      "14 D_Augmented\n",
      "26 G_Major\n",
      "14 G_Minor\n",
      "14 G_Diminished\n",
      "14 Eb_Augmented\n",
      "22 Ab_Major\n",
      "14 Ab_Minor\n",
      "14 Ab_Diminished\n",
      "14 C_Augmented\n",
      "12 A_Major\n",
      "14 A_Minor\n",
      "14 A_Diminished\n",
      "14 C#_Augmented\n",
      "18 Bb_Major\n",
      "14 Bb_Minor\n",
      "14 Bb_Diminished\n",
      "14 D_Augmented\n",
      "15 B_Major\n",
      "14 B_Minor\n",
      "14 B_Diminished\n",
      "14 Eb_Augmented\n"
     ]
    }
   ],
   "source": [
    "for c, l in zip(template_clusters, template_labels):\n",
    "    print(c, l)"
   ]
  },
  {
   "cell_type": "markdown",
   "metadata": {},
   "source": [
    "### Compute the \"accuracy\" of the clustering"
   ]
  },
  {
   "cell_type": "code",
   "execution_count": 61,
   "metadata": {},
   "outputs": [
    {
     "name": "stdout",
     "output_type": "stream",
     "text": [
      "0.19459325396825397\n"
     ]
    }
   ],
   "source": [
    "gmm_y = list(map(lambda x: cluster_mapping.get(x, \"None\"), clusters))\n",
    "\n",
    "from sklearn.metrics import accuracy_score\n",
    "print(accuracy_score(chords, gmm_y))"
   ]
  },
  {
   "cell_type": "markdown",
   "metadata": {},
   "source": [
    "### Try it with a sequence of chords"
   ]
  },
  {
   "cell_type": "code",
   "execution_count": 62,
   "metadata": {},
   "outputs": [
    {
     "data": {
      "text/plain": [
       "[<matplotlib.lines.Line2D at 0x7e4ae1063cd0>]"
      ]
     },
     "execution_count": 62,
     "metadata": {},
     "output_type": "execute_result"
    },
    {
     "data": {
      "image/png": "[encoded data removed]",
      "text/plain": [
       "<Figure size 640x480 with 1 Axes>"
      ]
     },
     "metadata": {},
     "output_type": "display_data"
    }
   ],
   "source": [
    "predictions = gmm.predict(X[:150])\n",
    "plt.plot(predictions)"
   ]
  },
  {
   "cell_type": "markdown",
   "metadata": {},
   "source": [
    "### Interactive TSNE"
   ]
  },
  {
   "cell_type": "code",
   "execution_count": 68,
   "metadata": {},
   "outputs": [
    {
     "data": {
      "text/html": [
       "\n",
       "        <iframe\n",
       "            width=\"100%\"\n",
       "            height=\"500\"\n",
       "            src=\"./TSNE_GMM.html\"\n",
       "            frameborder=\"0\"\n",
       "            allowfullscreen\n",
       "            \n",
       "        ></iframe>\n",
       "        "
      ],
      "text/plain": [
       "<IPython.lib.display.IFrame at 0x7e4ae1061780>"
      ]
     },
     "metadata": {},
     "output_type": "display_data"
    },
    {
     "data": {
      "text/html": [
       "<a href='./TSNE_GMM.html' target='_blank'>./TSNE_GMM.html</a><br>"
      ],
      "text/plain": [
       "/home/angel/SMC/mir/chordclustering/TSNE_GMM.html"
      ]
     },
     "metadata": {},
     "output_type": "display_data"
    }
   ],
   "source": [
    "from faerun import Faerun\n",
    "f = Faerun(clear_color=\"#111111\", view=\"front\", coords=False)\n",
    "\n",
    "instruments = np.array(instruments).flatten()\n",
    "img_paths = np.array(img_paths).flatten()\n",
    "cat_chords, chord_data = Faerun.create_categories(chords)\n",
    "cat_clusters, cluster_data = Faerun.create_categories(gmm_y)\n",
    "cat_instruments, instruments_data = Faerun.create_categories(instruments)\n",
    "\n",
    "misclassified = (np.array(chords) == np.array(gmm_y)).astype(str)\n",
    "cat_misclassified, misclassified = Faerun.create_categories(misclassified)\n",
    "\n",
    "labels = list()\n",
    "\n",
    "for i in range(len(chord_data)):\n",
    "    labels.append(f'{chords[i]}_{cluster_data[i]}__{instruments_data[i]}__<img src=\"{img_paths[i]}\" width=500px>')\n",
    "\n",
    "f.add_scatter(\n",
    "    \"embeddings\",\n",
    "    {\n",
    "        \"x\": sample_coords[:, 0], \n",
    "        \"y\": sample_coords[:, 1], \n",
    "        \"c\": [chord_data, cluster_data, instruments_data, misclassified],\n",
    "        \"labels\": labels,\n",
    "    },\n",
    "    colormap=[\"tab20\", \"tab20\", \"tab20\"],\n",
    "    shader=\"smoothCircle\",\n",
    "    point_scale=2,\n",
    "    max_point_size=8,\n",
    "    has_legend=[True, True, True, True],\n",
    "    legend_labels=[cat_chords, cat_clusters, cat_instruments, cat_misclassified],\n",
    "    categorical=[True, True, True, True],\n",
    "    series_title=[\"True class\", \"Cluster\", \"Instruments\", \"Correctly classified\"],\n",
    "    selected_labels=[\"Cluster\", \"Instruments\"],\n",
    "    label_index=0,\n",
    "    title_index=0\n",
    ")\n",
    "\n",
    "f.plot(\"TSNE_GMM\", template=\"default\")"
   ]
  },
  {
   "cell_type": "code",
   "execution_count": 187,
   "metadata": {},
   "outputs": [
    {
     "data": {
      "text/plain": [
       "[(0, 'Bassoon'),\n",
       " (1, 'Clarinet'),\n",
       " (2, 'Contrabass'),\n",
       " (3, 'Flute'),\n",
       " (4, 'Guitar'),\n",
       " (5, 'Harp'),\n",
       " (6, 'Oboe'),\n",
       " (7, 'Piano'),\n",
       " (8, 'Piccolo'),\n",
       " (9, 'Saxophone'),\n",
       " (10, 'Trombone'),\n",
       " (11, 'Trumpet'),\n",
       " (12, 'Viola'),\n",
       " (13, 'Violin'),\n",
       " (14, 'Violoncello')]"
      ]
     },
     "execution_count": 187,
     "metadata": {},
     "output_type": "execute_result"
    }
   ],
   "source": [
    "cat_instruments"
   ]
  },
  {
   "cell_type": "markdown",
   "metadata": {},
   "source": [
    "# TODO\n",
    "\n",
    "* Asignar a cada cluster su etiqueta según el template más cercano\n",
    "* Analizar los que están mal clasificados\n",
    "* Hacerlo solo con clarinete\n",
    "* Hacerlo con todos los audios de music21\n",
    "* Plottear el chord tracking para una secuencia de acordes\n",
    "* Aplicar HMM/viterbi decoding (opcional)\n",
    "* A ver si mejora poniendo un cluster más (para cuando no suena nada)"
   ]
  },
  {
   "cell_type": "code",
   "execution_count": 128,
   "metadata": {},
   "outputs": [
    {
     "name": "stdout",
     "output_type": "stream",
     "text": [
      "Most likely hidden state sequence: [10 10 10 10 10 10 10 10 10 10 10 10 10 10 10 10 10 10 10 18 18 18  4  4\n",
      "  4  4  4  4  4  4  4  4  4  4  4  4  4  4  4  4  4 21  7  7  7  7  7  7\n",
      "  7  7  7  7  7  7  7  7  7  7  7 15 15 20 20  5  5  5  5  5  5  5  5  5\n",
      "  5  5  5  5  5  5  5  5  5 18  4  4  4  4  4  4  4  4  4  4  4  4  4  4\n",
      "  4  4  4 22]\n"
     ]
    },
    {
     "data": {
      "text/plain": [
       "[<matplotlib.lines.Line2D at 0x7ac0d35528f0>]"
      ]
     },
     "execution_count": 128,
     "metadata": {},
     "output_type": "execute_result"
    },
    {
     "data": {
      "image/png": "[encoded data removed]",
      "text/plain": [
       "<Figure size 640x480 with 1 Axes>"
      ]
     },
     "metadata": {},
     "output_type": "display_data"
    }
   ],
   "source": [
    "import numpy as np\n",
    "from hmmlearn import hmm\n",
    "\n",
    "n_states = 25  # Number of hidden states\n",
    "n_observations = 25  # Number of observed classes\n",
    "\n",
    "# Transition probability matrix (random uniform example)\n",
    "transition_probs = np.full((n_states, n_states), 1/n_states)\n",
    "\n",
    "# Emission probability matrix (random but normalized)\n",
    "emission_probs = np.random.rand(n_states, n_observations)\n",
    "emission_probs /= emission_probs.sum(axis=1, keepdims=True)  # Normalize rows\n",
    "\n",
    "# Initial state probabilities (assuming equal probability)\n",
    "start_probs = np.full(n_states, 1/n_states)\n",
    "\n",
    "# Example observed sequence (indices of classes from 0 to 11)\n",
    "observed_sequence = kmeans.predict(X[:100]).reshape(-1,1)\n",
    "\n",
    "# Define and initialize HMM model\n",
    "model = hmm.CategoricalHMM(n_components=n_states, n_iter=10000)\n",
    "model.startprob_ = start_probs\n",
    "model.transmat_ = transition_probs\n",
    "model.emissionprob_ = emission_probs\n",
    "\n",
    "# Apply Viterbi decoding\n",
    "hidden_states = model.predict(observed_sequence)\n",
    "\n",
    "print(\"Most likely hidden state sequence:\", hidden_states)\n",
    "\n",
    "plt.plot(hidden_states)"
   ]
  }
 ],
 "metadata": {
  "kernelspec": {
   "display_name": "essentia_tensorflow",
   "language": "python",
   "name": "python3"
  },
  "language_info": {
   "codemirror_mode": {
    "name": "ipython",
    "version": 3
   },
   "file_extension": ".py",
   "mimetype": "text/x-python",
   "name": "python",
   "nbconvert_exporter": "python",
   "pygments_lexer": "ipython3",
   "version": "3.10.16"
  }
 },
 "nbformat": 4,
 "nbformat_minor": 2
}
